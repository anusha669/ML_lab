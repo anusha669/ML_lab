{
 "cells": [
  {
   "cell_type": "code",
   "execution_count": 2,
   "metadata": {},
   "outputs": [],
   "source": [
    "import numpy as np"
   ]
  },
  {
   "cell_type": "code",
   "execution_count": 24,
   "metadata": {},
   "outputs": [],
   "source": [
    "epoch = 20\n",
    "lrate = 0.5\n",
    "input_lyr = 2\n",
    "hidden_lyr = 3\n",
    "output_lyr = 1\n",
    "x = np.array(([2,9],[1,5],[3,6]),dtype=float)\n",
    "y = np.array(([92],[89],[86]),dtype=float)"
   ]
  },
  {
   "cell_type": "code",
   "execution_count": 25,
   "metadata": {},
   "outputs": [],
   "source": [
    "x = x/np.amax(x,axis=0)\n",
    "y = y/100"
   ]
  },
  {
   "cell_type": "code",
   "execution_count": 26,
   "metadata": {},
   "outputs": [],
   "source": [
    "wh = np.random.uniform(size=(input_lyr,hidden_lyr))\n",
    "bh = np.random.uniform(size=(1,hidden_lyr))\n",
    "wo = np.random.uniform(size=(hidden_lyr,output_lyr))\n",
    "bo = np.random.uniform(size=(1,output_lyr))"
   ]
  },
  {
   "cell_type": "code",
   "execution_count": 19,
   "metadata": {},
   "outputs": [],
   "source": [
    "def sigmoid(x):\n",
    "    return 1/(1+np.exp(-x))\n",
    "\n",
    "def derivatives(x):\n",
    "    return x*(1-x)"
   ]
  },
  {
   "cell_type": "code",
   "execution_count": 27,
   "metadata": {},
   "outputs": [
    {
     "name": "stdout",
     "output_type": "stream",
     "text": [
      "0)Error = [0.00138359]\n",
      "1)Error = [0.00108801]\n",
      "2)Error = [0.00086955]\n",
      "3)Error = [0.00070485]\n",
      "4)Error = [0.00057847]\n",
      "5)Error = [0.00047997]\n",
      "6)Error = [0.00040212]\n",
      "7)Error = [0.00033982]\n",
      "8)Error = [0.0002894]\n",
      "9)Error = [0.00024818]\n",
      "10)Error = [0.00021418]\n",
      "11)Error = [0.00018589]\n",
      "12)Error = [0.00016218]\n",
      "13)Error = [0.00014217]\n",
      "14)Error = [0.00012518]\n",
      "15)Error = [0.00011066]\n",
      "16)Error = [9.8183377e-05]\n",
      "17)Error = [8.74153512e-05]\n",
      "18)Error = [7.80762581e-05]\n",
      "19)Error = [6.99415006e-05]\n",
      "[[0.85625796]\n",
      " [0.84009949]\n",
      " [0.86052757]]\n"
     ]
    }
   ],
   "source": [
    "for i in range(epoch):\n",
    "    net_h = np.dot(x,wh) + bh\n",
    "    sigma_h = sigmoid(net_h)\n",
    "    net_o = np.dot(sigma_h,wo)\n",
    "    output = sigmoid(net_o)\n",
    "    \n",
    "    deltaK = (y-output)*derivatives(output)\n",
    "    deltaH = deltaK.dot(wo.T)*derivatives(sigma_h)\n",
    "    \n",
    "    wo = wo + sigma_h.T.dot(deltaK)*lrate\n",
    "    wh = wh + x.T.dot(deltaH)*lrate\n",
    "    \n",
    "    error = sum(deltaK)**2/len(deltaK)\n",
    "    print(\"{0})Error = {1}\".format(i,error))\n",
    "print(output)\n",
    "    "
   ]
  },
  {
   "cell_type": "code",
   "execution_count": null,
   "metadata": {},
   "outputs": [],
   "source": []
  }
 ],
 "metadata": {
  "kernelspec": {
   "display_name": "Python 3",
   "language": "python",
   "name": "python3"
  },
  "language_info": {
   "codemirror_mode": {
    "name": "ipython",
    "version": 3
   },
   "file_extension": ".py",
   "mimetype": "text/x-python",
   "name": "python",
   "nbconvert_exporter": "python",
   "pygments_lexer": "ipython3",
   "version": "3.7.3"
  }
 },
 "nbformat": 4,
 "nbformat_minor": 2
}
