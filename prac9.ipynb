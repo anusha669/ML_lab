{
 "cells": [
  {
   "cell_type": "code",
   "execution_count": 1,
   "metadata": {},
   "outputs": [],
   "source": [
    "from sklearn.neighbors import KNeighborsClassifier"
   ]
  },
  {
   "cell_type": "code",
   "execution_count": 2,
   "metadata": {},
   "outputs": [
    {
     "data": {
      "text/plain": [
       "KNeighborsClassifier(algorithm='auto', leaf_size=30, metric='minkowski',\n",
       "           metric_params=None, n_jobs=None, n_neighbors=5, p=2,\n",
       "           weights='uniform')"
      ]
     },
     "execution_count": 2,
     "metadata": {},
     "output_type": "execute_result"
    }
   ],
   "source": [
    "from sklearn.model_selection import train_test_split\n",
    "from sklearn import datasets\n",
    "iris = datasets.load_iris()\n",
    "\n",
    "x_train,x_test,y_train,y_test = train_test_split(iris['data'],iris['target'])\n",
    "kn = KNeighborsClassifier(n_neighbors=5)\n",
    "kn.fit(x_train,y_train)"
   ]
  },
  {
   "cell_type": "code",
   "execution_count": 3,
   "metadata": {},
   "outputs": [
    {
     "data": {
      "text/plain": [
       "0.9736842105263158"
      ]
     },
     "execution_count": 3,
     "metadata": {},
     "output_type": "execute_result"
    }
   ],
   "source": [
    "import sklearn.metrics as sm\n",
    "sm.accuracy_score(y_test, kn.predict(x_test))"
   ]
  },
  {
   "cell_type": "code",
   "execution_count": 9,
   "metadata": {},
   "outputs": [
    {
     "name": "stdout",
     "output_type": "stream",
     "text": [
      "Target:  1  Predicted:  [1]\n",
      "Target:  1  Predicted:  [2]\n",
      "Target:  2  Predicted:  [2]\n",
      "Target:  0  Predicted:  [0]\n",
      "Target:  0  Predicted:  [0]\n",
      "Target:  1  Predicted:  [1]\n",
      "Target:  0  Predicted:  [0]\n",
      "Target:  1  Predicted:  [1]\n",
      "Target:  2  Predicted:  [2]\n",
      "Target:  0  Predicted:  [0]\n",
      "Target:  2  Predicted:  [2]\n",
      "Target:  0  Predicted:  [0]\n",
      "Target:  1  Predicted:  [1]\n",
      "Target:  0  Predicted:  [0]\n",
      "Target:  2  Predicted:  [2]\n",
      "Target:  0  Predicted:  [0]\n",
      "Target:  0  Predicted:  [0]\n",
      "Target:  2  Predicted:  [2]\n",
      "Target:  1  Predicted:  [1]\n",
      "Target:  2  Predicted:  [2]\n",
      "Target:  1  Predicted:  [1]\n",
      "Target:  2  Predicted:  [2]\n",
      "Target:  1  Predicted:  [1]\n",
      "Target:  0  Predicted:  [0]\n",
      "Target:  1  Predicted:  [1]\n",
      "Target:  0  Predicted:  [0]\n",
      "Target:  2  Predicted:  [2]\n",
      "Target:  1  Predicted:  [1]\n",
      "Target:  1  Predicted:  [1]\n",
      "Target:  1  Predicted:  [1]\n",
      "Target:  2  Predicted:  [2]\n",
      "Target:  0  Predicted:  [0]\n",
      "Target:  0  Predicted:  [0]\n",
      "Target:  1  Predicted:  [1]\n",
      "Target:  0  Predicted:  [0]\n",
      "Target:  1  Predicted:  [1]\n",
      "Target:  0  Predicted:  [0]\n",
      "Target:  0  Predicted:  [0]\n"
     ]
    }
   ],
   "source": [
    "import numpy as np\n",
    "for i in range(len(x_test)):\n",
    "    pred_y = kn.predict(np.array([x_test[i]]))\n",
    "    print(\"Target: \",y_test[i],\" Predicted: \",pred_y)"
   ]
  }
 ],
 "metadata": {
  "kernelspec": {
   "display_name": "Python 3",
   "language": "python",
   "name": "python3"
  },
  "language_info": {
   "codemirror_mode": {
    "name": "ipython",
    "version": 3
   },
   "file_extension": ".py",
   "mimetype": "text/x-python",
   "name": "python",
   "nbconvert_exporter": "python",
   "pygments_lexer": "ipython3",
   "version": "3.7.3"
  }
 },
 "nbformat": 4,
 "nbformat_minor": 2
}
